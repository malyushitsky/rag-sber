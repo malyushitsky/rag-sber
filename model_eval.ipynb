{
 "cells": [
  {
   "cell_type": "markdown",
   "id": "33cb6ddc-981c-41e5-b32e-b14b85fbc89e",
   "metadata": {},
   "source": [
    "# 2B Модель"
   ]
  },
  {
   "cell_type": "code",
   "execution_count": null,
   "id": "38d47ea8-91a4-47a7-b6ba-208d4780ba53",
   "metadata": {},
   "outputs": [],
   "source": [
    "import chromadb\n",
    "from transformers import AutoModelForCausalLM, AutoTokenizer, pipeline\n",
    "from langchain.vectorstores import Chroma\n",
    "\n",
    "# 🔹 Загружаем модель \n",
    "model_name = \"google/gemma-2b-it\" \n",
    "\n",
    "tokenizer = AutoTokenizer.from_pretrained(model_name)\n",
    "model = AutoModelForCausalLM.from_pretrained(model_name, device_map=\"auto\")\n",
    "\n",
    "# 🔹 Создаем пайплайн для инференса\n",
    "llm_pipeline = pipeline(\"text-generation\", model=model, tokenizer=tokenizer)"
   ]
  },
  {
   "cell_type": "markdown",
   "id": "4b554395-54cf-4399-bc0d-a0eb764a7ae6",
   "metadata": {},
   "source": [
    "# Подгружаем 8B модель"
   ]
  },
  {
   "cell_type": "code",
   "execution_count": 1,
   "id": "566a5f9c-11fa-41df-b9a8-6a25c97ed846",
   "metadata": {},
   "outputs": [
    {
     "data": {
      "application/vnd.jupyter.widget-view+json": {
       "model_id": "e9d8236b471e4d86824d76ef0c702edb",
       "version_major": 2,
       "version_minor": 0
      },
      "text/plain": [
       "Loading checkpoint shards:   0%|          | 0/4 [00:00<?, ?it/s]"
      ]
     },
     "metadata": {},
     "output_type": "display_data"
    },
    {
     "name": "stderr",
     "output_type": "stream",
     "text": [
      "Device set to use cuda:0\n"
     ]
    }
   ],
   "source": [
    "from transformers import BitsAndBytesConfig, AutoTokenizer, AutoModelForCausalLM, pipeline\n",
    "import torch\n",
    "\n",
    "device = torch.device(\"cuda\" if torch.cuda.is_available() else \"cpu\")\n",
    "\n",
    "quant_config = BitsAndBytesConfig(load_in_8bit=True)\n",
    "\n",
    "model_name = \"t-bank-ai/T-lite-instruct-0.1\"\n",
    "tokenizer = AutoTokenizer.from_pretrained(model_name)\n",
    "model = AutoModelForCausalLM.from_pretrained(model_name, \n",
    "                                             quantization_config=quant_config,\n",
    "                                             device_map=\"auto\")\n",
    "\n",
    "# Создаем пайплайн для модели\n",
    "llm_pipeline = pipeline(\"text-generation\", model=model, tokenizer=tokenizer)"
   ]
  },
  {
   "cell_type": "code",
   "execution_count": 2,
   "id": "5c19cb7d-95bb-4d25-bd48-3db23cf5ca36",
   "metadata": {},
   "outputs": [],
   "source": [
    "import json\n",
    "\n",
    "def extract_location(query: str):\n",
    "    \"\"\"Извлекает страны и города с помощью LLM в формате few-shot.\"\"\"\n",
    "\n",
    "    prompt = f\"\"\"Извлеки названия стран и городов из запроса. Ответ строго в формате JSON.\n",
    "\n",
    "    Пример 1:\n",
    "    Текст: \"Какие достопримечательности есть в Москве и Париже?\"\n",
    "    Ответ:\n",
    "    {{\n",
    "      \"cities\": [\"Москва\", \"Париж\"],\n",
    "      \"countries\": [\"Россия\", \"Франция\"]\n",
    "    }}\n",
    "    \n",
    "    Пример 2:\n",
    "    Текст: \"Что посмотреть в Берлине, Лондоне и Италии?\"\n",
    "    Ответ:\n",
    "    {{\n",
    "      \"cities\": [\"Берлин\", \"Лондон\"],\n",
    "      \"countries\": [\"Германия\", \"Великобритания\", \"Италия\"]\n",
    "    }}\n",
    "    \n",
    "    Пример 3:\n",
    "    Текст: \"{query}\"\n",
    "    Ответ:\n",
    "    \"\"\"\n",
    "\n",
    "    response = llm_pipeline(prompt, max_new_tokens=100, do_sample=False)\n",
    "    response_text = response[0][\"generated_text\"]\n",
    "\n",
    "    try:\n",
    "        # Разделим на части по слову 'Ответ' и возьмём сгенерированный ответ\n",
    "        parts = response_text.split(\"Ответ:\")\n",
    "        answer_part = parts[3] \n",
    "\n",
    "        # Найдём первую подстроку от \"{\" до \"}\" \n",
    "        json_start = answer_part.find(\"{\")\n",
    "        json_end = answer_part.find(\"}\") + 2\n",
    "\n",
    "        if json_start == -1 or json_end == -1:\n",
    "            raise ValueError(\"Не удалось найти JSON-блок\")\n",
    "\n",
    "        json_str = answer_part[json_start:json_end]\n",
    "        result = json.loads(json_str)\n",
    "\n",
    "    except Exception as e:\n",
    "        print(f\"Ошибка извлечения: {e}\")\n",
    "        result = {\"cities\": [], \"countries\": []}\n",
    "\n",
    "    return result\n",
    "\n",
    "#user_query = \"Что можно посмотреть в Казани и в Германии?\"\n",
    "#print(extract_location(user_query))"
   ]
  },
  {
   "cell_type": "markdown",
   "id": "a01e32ab-3e4f-47f3-b63b-f4a4882bc63b",
   "metadata": {},
   "source": [
    "# Тестирование ретривера\n"
   ]
  },
  {
   "cell_type": "markdown",
   "id": "d0f86edc-13fb-4d85-bb4f-83fa7d3d1b77",
   "metadata": {
    "jp-MarkdownHeadingCollapsed": true
   },
   "source": [
    "```\n",
    "Предполагается, что модель сможет вычленять названия стран и городов из вопросов пользователей, соответственно мы можем оценить ретривер путем оценки соответствия извлеченных сущностей запросу. Тк в дальнейшем мы будем фильтровать чанки по мета информации (Страна, город) в контекст модели не будет попадать нерелевантная информация\n",
    "```"
   ]
  },
  {
   "cell_type": "markdown",
   "id": "c1bd90a9-c423-480c-9e22-a0655fc56b59",
   "metadata": {},
   "source": [
    "## Тестовые запросы и правильные ответы"
   ]
  },
  {
   "cell_type": "code",
   "execution_count": 47,
   "id": "d22d94cf-4f00-4395-bb32-c4431ad35175",
   "metadata": {},
   "outputs": [],
   "source": [
    "test_queries = [\n",
    "    \"Какие достопримечательности стоит посетить в Москве и Санкт-Петербурге?\",\n",
    "    \"Что лучше попробовать из еды в Париже и Лионе?\",\n",
    "    \"Какие музеи есть в Берлине и Мюнхене?\",\n",
    "    \"Где можно покататься на гондолах в Италии?\",\n",
    "    \"Какой пляжный отдых можно найти во Флоренции или Венеции?\",\n",
    "    \"Какой общественный транспорт лучше использовать в Риме?\",\n",
    "    \"Какова история Красной площади в Москве?\",\n",
    "    \"Какие замки можно посетить во Франции?\",\n",
    "    \"Какие современные здания есть в Берлине?\",\n",
    "    \"Что стоит посетить в Казани туристу впервые?\"\n",
    "]\n",
    "\n",
    "expected_entities = [\n",
    "    {\"cities\": [\"Москва\", \"Санкт-Петербург\"], \"countries\": [\"Россия\"]},\n",
    "    {\"cities\": [\"Париж\", \"Лион\"], \"countries\": [\"Франция\"]},\n",
    "    {\"cities\": [\"Берлин\", \"Мюнхен\"], \"countries\": [\"Германия\"]},\n",
    "    {\"cities\": [], \"countries\": [\"Италия\"]},  # Вопрос без конкретных городов\n",
    "    {\"cities\": [\"Флоренция\", \"Венеция\"], \"countries\": [\"Италия\"]},\n",
    "    {\"cities\": [\"Рим\"], \"countries\": [\"Италия\"]},\n",
    "    {\"cities\": [\"Москва\"], \"countries\": [\"Россия\"]},\n",
    "    {\"cities\": [], \"countries\": [\"Франция\"]},\n",
    "    {\"cities\": [\"Берлин\"], \"countries\": [\"Германия\"]},\n",
    "    {\"cities\": [\"Казань\"], \"countries\": [\"Россия\"]}\n",
    "]"
   ]
  },
  {
   "cell_type": "markdown",
   "id": "f6e262ec-c186-4035-8592-00ff5b8f2d52",
   "metadata": {},
   "source": [
    "## Метрики оценки извлечения сущностей\n",
    "\n",
    "### 1. Full Match Accuracy \n",
    "\n",
    "Эта метрика показывает, насколько точно модель извлекает все нужные сущности (города и страны).\n",
    "\n",
    "**Как считается**:\n",
    "\n",
    "Для каждого запроса проверяется, совпадают ли оба списка — и стран, и городов — в точности с ожидаемыми значениями:\n",
    "\n",
    "Если совпадает — считаем 1 балл.\n",
    "Если хотя бы одна лишняя или пропущенная сущность — 0 баллов.\n",
    "\n",
    "Затем подсчитывается доля таких полностью верных предсказаний среди всех запросов.\n",
    "\n",
    "\n",
    "### 2. IoU (Intersection over Union)\n",
    "\n",
    "Метрика оценивает пересечение между предсказанными и ожидаемыми сущностями — то есть насколько сильно они совпадают, даже если не идеально.\n",
    "\n",
    "**Как считается**:\n",
    "\n",
    "Сначала отдельно для городов и отдельно для стран:\n",
    "\n",
    "Считается, сколько сущностей было предсказано верно.\n",
    "Сравнивается это с общим числом всех уникальных сущностей в предсказании и эталоне (то есть объединением).\n",
    "Полученные значения объединяются в одно среднее число.\n",
    "\n",
    "Затем IoU усредняется по всем запросам\n"
   ]
  },
  {
   "cell_type": "code",
   "execution_count": 3,
   "id": "dffeb719-4141-479e-97e6-1cbfe5a89687",
   "metadata": {},
   "outputs": [],
   "source": [
    "from typing import List, Dict\n",
    "\n",
    "def evaluate_retriever(predicted_entities: List[Dict],\n",
    "                       queries: List[str],\n",
    "                       expected: List[Dict]):\n",
    "    \"\"\"Оценивает точность выделения стран и городов альтернативными метриками.\"\"\"\n",
    "\n",
    "    correct_full_predictions = 0\n",
    "    total_iou = 0\n",
    "\n",
    "    for i, (pred, true) in enumerate(zip(predicted_entities, expected)):\n",
    "        # Удаляем дубликаты\n",
    "        pred_cities = set(pred.get(\"cities\", []))\n",
    "        pred_countries = set(pred.get(\"countries\", []))\n",
    "\n",
    "        true_cities = set(true.get(\"cities\", []))\n",
    "        true_countries = set(true.get(\"countries\", []))\n",
    "\n",
    "        # Проверка на точное совпадение\n",
    "        if pred_cities == true_cities and pred_countries == true_countries:\n",
    "            correct_full_predictions += 1\n",
    "\n",
    "        # IoU по городам\n",
    "        union_cities = pred_cities | true_cities\n",
    "        inter_cities = pred_cities & true_cities\n",
    "        cities_iou = len(inter_cities) / len(union_cities) if union_cities else 1.0\n",
    "\n",
    "        # IoU по странам\n",
    "        union_countries = pred_countries | true_countries\n",
    "        inter_countries = pred_countries & true_countries\n",
    "        countries_iou = len(inter_countries) / len(union_countries) if union_countries else 1.0\n",
    "\n",
    "        avg_iou = (cities_iou + countries_iou) / 2\n",
    "        total_iou += avg_iou\n",
    "\n",
    "        print(f\"\\nВопрос {i+1}: {queries[i]}\")\n",
    "        print(f\"Ожидалось: {true}\")\n",
    "        print(f\"Предсказано: {pred}\")\n",
    "        print(f\"IoU: {avg_iou:.2f}\")\n",
    "        print(f\"Точное совпадение: {int(pred_cities == true_cities and pred_countries == true_countries)}\")\n",
    "\n",
    "    print(\"\\n**Общая оценка**\")\n",
    "    print(f\"Полностью верных предсказаний: {correct_full_predictions / len(queries):.2f}\")\n",
    "    print(f\"Средний IoU: {total_iou / len(queries):.2f}\")\n"
   ]
  },
  {
   "cell_type": "code",
   "execution_count": 49,
   "id": "55876588-9ca8-4327-a2ec-f8e3a8b60dc2",
   "metadata": {},
   "outputs": [],
   "source": [
    "# Инференсим модель и сохраняем ответы\n",
    "predicted_entities = [extract_location(query) for query in test_queries]"
   ]
  },
  {
   "cell_type": "code",
   "execution_count": 50,
   "id": "61f418d8-dff9-4f6d-89c4-2bff195eb1b7",
   "metadata": {},
   "outputs": [
    {
     "data": {
      "text/plain": [
       "[{'cities': ['Москва', 'Санкт-Петербург'], 'countries': ['Россия', 'Россия']},\n",
       " {'cities': ['Париж', 'Лион'], 'countries': ['Франция']},\n",
       " {'cities': ['Берлин', 'Мюнхен'], 'countries': ['Германия', 'Германия']},\n",
       " {'cities': ['Италия'], 'countries': ['Италия']},\n",
       " {'cities': ['Флоренция', 'Венеция'], 'countries': ['Италия']},\n",
       " {'cities': ['Рим'], 'countries': ['Италия']},\n",
       " {'cities': ['Москва'], 'countries': ['Россия']},\n",
       " {'cities': [], 'countries': ['Франция']},\n",
       " {'cities': ['Берлин'], 'countries': ['Германия']},\n",
       " {'cities': ['Казань'], 'countries': ['Россия']}]"
      ]
     },
     "execution_count": 50,
     "metadata": {},
     "output_type": "execute_result"
    }
   ],
   "source": [
    "predicted_entities"
   ]
  },
  {
   "cell_type": "code",
   "execution_count": 63,
   "id": "069a9ac4-e85b-4f8f-9eed-52786d32981f",
   "metadata": {
    "scrolled": true
   },
   "outputs": [
    {
     "name": "stdout",
     "output_type": "stream",
     "text": [
      "\n",
      "Вопрос 1: Какие достопримечательности стоит посетить в Москве и Санкт-Петербурге?\n",
      "Ожидалось: {'cities': ['Москва', 'Санкт-Петербург'], 'countries': ['Россия']}\n",
      "Предсказано: {'cities': ['Москва', 'Санкт-Петербург'], 'countries': ['Россия', 'Россия']}\n",
      "IoU: 1.00\n",
      "Точное совпадение: 1\n",
      "\n",
      "Вопрос 2: Что лучше попробовать из еды в Париже и Лионе?\n",
      "Ожидалось: {'cities': ['Париж', 'Лион'], 'countries': ['Франция']}\n",
      "Предсказано: {'cities': ['Париж', 'Лион'], 'countries': ['Франция']}\n",
      "IoU: 1.00\n",
      "Точное совпадение: 1\n",
      "\n",
      "Вопрос 3: Какие музеи есть в Берлине и Мюнхене?\n",
      "Ожидалось: {'cities': ['Берлин', 'Мюнхен'], 'countries': ['Германия']}\n",
      "Предсказано: {'cities': ['Берлин', 'Мюнхен'], 'countries': ['Германия', 'Германия']}\n",
      "IoU: 1.00\n",
      "Точное совпадение: 1\n",
      "\n",
      "Вопрос 4: Где можно покататься на гондолах в Италии?\n",
      "Ожидалось: {'cities': [], 'countries': ['Италия']}\n",
      "Предсказано: {'cities': ['Италия'], 'countries': ['Италия']}\n",
      "IoU: 0.50\n",
      "Точное совпадение: 0\n",
      "\n",
      "Вопрос 5: Какой пляжный отдых можно найти во Флоренции или Венеции?\n",
      "Ожидалось: {'cities': ['Флоренция', 'Венеция'], 'countries': ['Италия']}\n",
      "Предсказано: {'cities': ['Флоренция', 'Венеция'], 'countries': ['Италия']}\n",
      "IoU: 1.00\n",
      "Точное совпадение: 1\n",
      "\n",
      "Вопрос 6: Какой общественный транспорт лучше использовать в Риме?\n",
      "Ожидалось: {'cities': ['Рим'], 'countries': ['Италия']}\n",
      "Предсказано: {'cities': ['Рим'], 'countries': ['Италия']}\n",
      "IoU: 1.00\n",
      "Точное совпадение: 1\n",
      "\n",
      "Вопрос 7: Какова история Красной площади в Москве?\n",
      "Ожидалось: {'cities': ['Москва'], 'countries': ['Россия']}\n",
      "Предсказано: {'cities': ['Москва'], 'countries': ['Россия']}\n",
      "IoU: 1.00\n",
      "Точное совпадение: 1\n",
      "\n",
      "Вопрос 8: Какие замки можно посетить во Франции?\n",
      "Ожидалось: {'cities': [], 'countries': ['Франция']}\n",
      "Предсказано: {'cities': [], 'countries': ['Франция']}\n",
      "IoU: 1.00\n",
      "Точное совпадение: 1\n",
      "\n",
      "Вопрос 9: Какие современные здания есть в Берлине?\n",
      "Ожидалось: {'cities': ['Берлин'], 'countries': ['Германия']}\n",
      "Предсказано: {'cities': ['Берлин'], 'countries': ['Германия']}\n",
      "IoU: 1.00\n",
      "Точное совпадение: 1\n",
      "\n",
      "Вопрос 10: Что стоит посетить в Казани туристу впервые?\n",
      "Ожидалось: {'cities': ['Казань'], 'countries': ['Россия']}\n",
      "Предсказано: {'cities': ['Казань'], 'countries': ['Россия']}\n",
      "IoU: 1.00\n",
      "Точное совпадение: 1\n",
      "\n",
      "**Общая оценка**\n",
      "**Полностью верных предсказаний**: 0.90\n",
      "Средний IoU: 0.95\n"
     ]
    }
   ],
   "source": [
    "evaluate_retriever(predicted_entities, test_queries, expected_entities)"
   ]
  },
  {
   "cell_type": "code",
   "execution_count": null,
   "id": "a0548a8f-facd-4901-9dcd-5769e57ed35c",
   "metadata": {},
   "outputs": [],
   "source": []
  },
  {
   "cell_type": "markdown",
   "id": "1352c43d-0f1c-4a12-8830-664211e0dc97",
   "metadata": {},
   "source": [
    "# Тестирование генерации"
   ]
  },
  {
   "cell_type": "markdown",
   "id": "a78e50a4-63c8-4bfb-953d-2fd0e8644790",
   "metadata": {},
   "source": [
    "## Загрузка данных"
   ]
  },
  {
   "cell_type": "code",
   "execution_count": 4,
   "id": "378edb91-0ea9-4a2a-b6a2-fff8ec1fc502",
   "metadata": {},
   "outputs": [
    {
     "name": "stderr",
     "output_type": "stream",
     "text": [
      "C:\\Users\\kiril\\AppData\\Local\\Temp\\ipykernel_19188\\1559281647.py:7: LangChainDeprecationWarning: The class `HuggingFaceEmbeddings` was deprecated in LangChain 0.2.2 and will be removed in 1.0. An updated version of the class exists in the :class:`~langchain-huggingface package and should be used instead. To use it run `pip install -U :class:`~langchain-huggingface` and import as `from :class:`~langchain_huggingface import HuggingFaceEmbeddings``.\n",
      "  embedding = HuggingFaceEmbeddings(\n",
      "C:\\Users\\kiril\\AppData\\Local\\Temp\\ipykernel_19188\\1559281647.py:12: LangChainDeprecationWarning: The class `Chroma` was deprecated in LangChain 0.2.9 and will be removed in 1.0. An updated version of the class exists in the :class:`~langchain-chroma package and should be used instead. To use it run `pip install -U :class:`~langchain-chroma` and import as `from :class:`~langchain_chroma import Chroma``.\n",
      "  db = Chroma(\n"
     ]
    }
   ],
   "source": [
    "from chromadb import Client\n",
    "import chromadb\n",
    "from langchain.embeddings import HuggingFaceEmbeddings\n",
    "from langchain.vectorstores import Chroma\n",
    "\n",
    "# Загружаем эмбеддер FRIDA\n",
    "embedding = HuggingFaceEmbeddings(\n",
    "    model_name=\"ai-forever/FRIDA\"\n",
    ")\n",
    "\n",
    "# Загружаем Chroma DB \n",
    "db = Chroma(\n",
    "    embedding_function=embedding,\n",
    "    persist_directory=\"chroma_storage\"\n",
    ")"
   ]
  },
  {
   "cell_type": "code",
   "execution_count": 5,
   "id": "574156bf-1070-459a-843b-d30ff85cde96",
   "metadata": {},
   "outputs": [],
   "source": [
    "def retrieve_documents(query: str, top_k: int):\n",
    "    \"\"\"\n",
    "    Получение релевантных документов с фильтрацией по городам, затем fallback на страну.\n",
    "    \"\"\"\n",
    "    \n",
    "    # Извлекаем страны и города\n",
    "    location = extract_location(query)\n",
    "    cities = location.get(\"cities\", [])\n",
    "    countries = location.get(\"countries\", [])\n",
    "\n",
    "    docs = []\n",
    "\n",
    "    # Сначала пробуем искать по городам \n",
    "    if cities:\n",
    "        city_filter = {\"city\": {\"$in\": cities}}\n",
    "\n",
    "        try:\n",
    "            retriever = db.as_retriever(search_kwargs={\"filter\": city_filter, \"k\": top_k})\n",
    "            docs = retriever.get_relevant_documents(query)\n",
    "        except Exception as e:\n",
    "            print(f\"Ошибка при фильтрации по городам: {e}\")\n",
    "\n",
    "    # Если по городам ничего не нашли, пробуем по странам\n",
    "    if not docs and countries:\n",
    "        country_filter = {\"country\": {\"$in\": countries}}\n",
    "\n",
    "        try:\n",
    "            retriever = db.as_retriever(search_kwargs={\"filter\": country_filter, \"k\": top_k})\n",
    "            docs = retriever.get_relevant_documents(query)\n",
    "        except Exception as e:\n",
    "            print(f\"Ошибка при фильтрации по странам: {e}\")\n",
    "\n",
    "    # Если ничего не найдено \n",
    "    if not docs:\n",
    "        return \"Информации в базе данных нет по указанным странам или городам.\"\n",
    "\n",
    "    # Убираем префикс search_document:\n",
    "    context = \"\\n\\n\".join(\n",
    "        doc.page_content.replace(\"search_document:\", \"\").strip() for doc in docs\n",
    "    )\n",
    "\n",
    "    return context"
   ]
  },
  {
   "cell_type": "code",
   "execution_count": 17,
   "id": "d7523701-2624-415b-99c7-44785260778f",
   "metadata": {},
   "outputs": [],
   "source": [
    "def generate_answer(query: str, context: str, max_new_tokens: int = 300) -> str:\n",
    "    \"\"\"\n",
    "    Генерирует ответ с помощью LLM на основе контекста и вопроса пользователя.\n",
    "    \n",
    "    :param query: Вопрос пользователя\n",
    "    :param context: Содержимое релевантных документов (из базы)\n",
    "    :param max_new_tokens: Максимальное число новых токенов в ответе\n",
    "    :return: Ответ модели\n",
    "    \"\"\"\n",
    "\n",
    "    prompt = f\"\"\"\n",
    "             Ты — интеллектуальный туристический помощник.\n",
    "             Используя предоставленную информацию, ответь на вопрос пользователя.\n",
    "                \n",
    "             Контекст:\n",
    "             {context}\n",
    "                \n",
    "             Вопрос: {query}\n",
    "             Ответ:\n",
    "             \"\"\"\n",
    "\n",
    "    response = llm_pipeline(prompt, max_new_tokens=max_new_tokens)\n",
    "    response = response[0][\"generated_text\"].split(\"Ответ:\")[-1].strip() # Оставляем только ответ модели\n",
    "    \n",
    "    return response"
   ]
  },
  {
   "cell_type": "code",
   "execution_count": 18,
   "id": "0ac83dab-3141-4d3d-8d1f-79b463285b6f",
   "metadata": {},
   "outputs": [],
   "source": [
    "def final_pipeline(query: str, top_k: int = 3, debug: bool = False) -> str:\n",
    "    \"\"\" \n",
    "    Пайплайн работы модели \n",
    "\n",
    "    :param query: Вопрос пользователя\n",
    "    :param top_k: Количество возвращаемых документов добавленных в контекст модели\n",
    "    :param debug: Флаг для вывода вопроса с подаваемым контекстом\n",
    "    :return: Ответ модели\n",
    "    \"\"\"\n",
    "    \n",
    "    context = retrieve_documents(query, top_k) # фильтруем по городам и странам документы, затем оставляем top-k наиболее релевантных запросу\n",
    "\n",
    "    if debug:\n",
    "        print(f\"Вопрос пользователя:\\n{query}\")\n",
    "        print(\"\\n\" + \"*\" * 100 + \"\\n\")\n",
    "        print(f\"Найденный контекст:\\n{context}\")\n",
    "        print(\"\\n\" + \"*\" * 100 + \"\\n\")\n",
    "    answer = generate_answer(query, context, max_new_tokens=300) # генерируем ответ с учетом найденных документов\n",
    "    \n",
    "    return answer"
   ]
  },
  {
   "cell_type": "code",
   "execution_count": null,
   "id": "4c1638f0-31f6-42d0-afee-64292da43e2b",
   "metadata": {},
   "outputs": [],
   "source": []
  },
  {
   "cell_type": "markdown",
   "id": "2d1781b1-da45-470b-8957-ae304670cbf0",
   "metadata": {},
   "source": [
    "# Метрика оценки генерации\n"
   ]
  },
  {
   "cell_type": "markdown",
   "id": "af22c989-1886-4f6e-b5e2-2c6d1b8b9523",
   "metadata": {},
   "source": [
    "Будем оценивать соответствие сгенерированного текста эталонному для набора из 10 вопросов. \n",
    "\n",
    "Оценка производится с помощью косинусной близости на эмбеддингах полученных от внешней модели FRIDA\n",
    "\n",
    "Таким образом, для каждой тройки (вопрос | сгенерированный нашей LLM ответ| эталонный ответ составленный вручную) - у нас будет оценка от 0 до 1. В конце просто усредним оценки по всем тройкам"
   ]
  },
  {
   "cell_type": "code",
   "execution_count": 8,
   "id": "8c836471-4276-4a11-9380-0603c4f4cf4a",
   "metadata": {},
   "outputs": [],
   "source": [
    "from sentence_transformers import SentenceTransformer\n",
    "import torch\n",
    "\n",
    "# Загрузим эмбеддер\n",
    "embedder = SentenceTransformer(\"ai-forever/FRIDA\")"
   ]
  },
  {
   "cell_type": "code",
   "execution_count": 19,
   "id": "798ca722-e4c7-4b28-ba57-8bcb256388bd",
   "metadata": {},
   "outputs": [],
   "source": [
    "from typing import List, Dict\n",
    "\n",
    "def evaluate_similarity_frida(\n",
    "    questions: List[str], \n",
    "    generated_answers: List[str],\n",
    "    reference_answers: List[str]\n",
    ") -> List[float]:\n",
    "    \"\"\"\n",
    "    Вычисляет косинусную близость между сгенерированными и эталонными ответами\n",
    "    с помощью FRIDA SentenceTransformer.\n",
    "\n",
    "    :param questions: Список вопросов\n",
    "    :param generated_answers: Список ответов, сгенерированных LLM.\n",
    "    :param reference_answers: Список эталонных ответов.\n",
    "        \n",
    "    :return: Косинусная близость по каждой паре.\n",
    "    \"\"\"\n",
    "\n",
    "    inputs = (\n",
    "        [f\"search_document: {text}\" for text in generated_answers] +\n",
    "        [f\"search_document: {text}\" for text in reference_answers]\n",
    "    )\n",
    "\n",
    "    embeddings = embedder.encode(inputs, convert_to_tensor=True)\n",
    "\n",
    "    gen_embs = embeddings[:len(generated_answers)]\n",
    "    ref_embs = embeddings[len(generated_answers):]\n",
    "\n",
    "    sim_scores = (gen_embs @ ref_embs.T).diagonal().tolist()\n",
    "\n",
    "    for i, (question, generated, reference) in enumerate(zip(questions, generated_answers, reference_answers)):\n",
    "        \n",
    "        print(f\"Вопрос: {question}:\")\n",
    "        print(f\"Ожидалось:\\n{reference}\")\n",
    "        print(f\"Предсказано:\\n{generated}\")\n",
    "        print(f\"cosine_similarity: {sim_scores[i]:.4f}\\n\")\n",
    "        print(100 * '*')\n",
    "\n",
    "    avg_sim = sum(sim_scores) / len(sim_scores)\n",
    "    print(\"\\nОбщая оценка\")\n",
    "    print(f\"Средний similarity: {avg_sim:.4f}\")\n",
    "    \n",
    "    return sim_scores"
   ]
  },
  {
   "cell_type": "code",
   "execution_count": 10,
   "id": "8429c7e6-87b8-4d72-9d73-9b6b75262b80",
   "metadata": {},
   "outputs": [],
   "source": [
    "questions = ['Какие кафедральные соборы входят в список объектов Всемирного наследия ЮНЕСКО в Германии?',\n",
    "             'Какие достопримечательности связаны с Лютером в Германии?']\n",
    "reference_answer = ['В этот список входят Кафедральный собор в Ахене, Кафедральный собор в Шпайере, Кафедральный собор Св. Марии в Кёльне и кафедральный собор Св. Петра в Трире.',\n",
    "                    'Памятные места Лютера находятся в городах Айслебен и Виттенберг.']"
   ]
  },
  {
   "cell_type": "code",
   "execution_count": 12,
   "id": "b4f68b7c-28d6-4cd7-9971-6665567ec15f",
   "metadata": {},
   "outputs": [],
   "source": [
    "generated_answer = [final_pipeline(question) for question in questions]"
   ]
  },
  {
   "cell_type": "code",
   "execution_count": 20,
   "id": "c9b385c1-351e-4b4d-9cef-a407038cf6c3",
   "metadata": {},
   "outputs": [
    {
     "name": "stdout",
     "output_type": "stream",
     "text": [
      "Вопрос: Какие кафедральные соборы входят в список объектов Всемирного наследия ЮНЕСКО в Германии?:\n",
      "Ожидалось:\n",
      "В этот список входят Кафедральный собор в Ахене, Кафедральный собор в Шпайере, Кафедральный собор Св. Марии в Кёльне и кафедральный собор Св. Петра в Трире.\n",
      "Предсказано:\n",
      "В Германии в список объектов Всемирного наследия ЮНЕСКО входят несколько кафедральных соборов. Среди них:\n",
      "              - Кафедральный собор в Ахене\n",
      "              - Кафедральный собор в Шпайере\n",
      "              - Кафедральный собор в Хильдесхайме\n",
      "              - Кафедральный собор в Трире\n",
      "              - Кафедральный собор в Кёльне\n",
      "\n",
      "### Дополнительные рекомендации\n",
      "\n",
      "- **Ахен**: Помимо собора, посетите знаменитый термальный источник и римские руины.\n",
      "- **Шпайер**: В этом городе также есть интересные музеи и исторические здания.\n",
      "- **Хильдесхайм**: Помимо собора, стоит посетить музеи и исторические церкви.\n",
      "- **Трир**: Здесь можно увидеть не только собор, но и другие римские и средневековые памятники.\n",
      "\n",
      "### Советы по планированию\n",
      "\n",
      "- **Транспорт**: В Германии хорошо развито железнодорожное сообщение. Рекомендуется использовать поезда, чтобы легко добраться до разных городов.\n",
      "- **Туристические карты**: В Германии популярны карты, которые дают скидки на посещ\n",
      "cosine_similarity: 0.7455\n",
      "\n",
      "****************************************************************************************************\n",
      "Вопрос: Какие достопримечательности связаны с Лютером в Германии?:\n",
      "Ожидалось:\n",
      "Памятные места Лютера находятся в городах Айслебен и Виттенберг.\n",
      "Предсказано:\n",
      "### Достопримечательности, связанные с Лютером\n",
      "\n",
      "В Германии есть несколько мест, связанных с жизнью и деятельностью Мартина Лютера, одного из самых значимых реформаторов христианства. Вот некоторые из них:\n",
      "\n",
      "1. **Виттенберг**:\n",
      "    - **Виттенбергский замок**: Здесь Лютер жил и работал, а также начал свою реформаторскую деятельность. В замке находится знаменитая \"Дверь Лютера\" (Luther's Gate), через которую он вышел, когда началась его реформаторская деятельность.\n",
      "    - **Виттенбергский университет**: В этом университете Лютер преподавал и начал свои реформаторские труды. Здесь также находится знаменитая \"Табличка Лютера\" (Luther's Table), на которой он написал свои знаменитые 95 тезисов.\n",
      "\n",
      "2. **Айслебен**:\n",
      "    - **Монастырь августинцев**: Здесь Лютер был монахом и начал свои размышления о религиозных вопросах, что впоследствии привело к его реформаторскому движению.\n",
      "\n",
      "3. **Вартбург**:\n",
      "    - **Замок Вартбург**: В\n",
      "cosine_similarity: 0.6569\n",
      "\n",
      "****************************************************************************************************\n",
      "\n",
      "Общая оценка\n",
      "Средний similarity: 0.7012\n"
     ]
    },
    {
     "data": {
      "text/plain": [
       "[0.7454598546028137, 0.6568827033042908]"
      ]
     },
     "execution_count": 20,
     "metadata": {},
     "output_type": "execute_result"
    }
   ],
   "source": [
    "evaluate_similarity_frida(questions, generated_answer, reference_answer)"
   ]
  },
  {
   "cell_type": "code",
   "execution_count": null,
   "id": "9639b44d-8023-41c2-a537-7e2df6bc894b",
   "metadata": {},
   "outputs": [],
   "source": []
  }
 ],
 "metadata": {
  "kernelspec": {
   "display_name": "Python 3 (ipykernel)",
   "language": "python",
   "name": "python3"
  },
  "language_info": {
   "codemirror_mode": {
    "name": "ipython",
    "version": 3
   },
   "file_extension": ".py",
   "mimetype": "text/x-python",
   "name": "python",
   "nbconvert_exporter": "python",
   "pygments_lexer": "ipython3",
   "version": "3.10.16"
  }
 },
 "nbformat": 4,
 "nbformat_minor": 5
}
