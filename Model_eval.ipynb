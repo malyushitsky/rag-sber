{
 "cells": [
  {
   "cell_type": "markdown",
   "id": "33cb6ddc-981c-41e5-b32e-b14b85fbc89e",
   "metadata": {},
   "source": [
    "# 2B Модель"
   ]
  },
  {
   "cell_type": "code",
   "execution_count": 32,
   "id": "38d47ea8-91a4-47a7-b6ba-208d4780ba53",
   "metadata": {},
   "outputs": [
    {
     "data": {
      "application/vnd.jupyter.widget-view+json": {
       "model_id": "75c6ee8fe77944ea935bd05bdac8cec9",
       "version_major": 2,
       "version_minor": 0
      },
      "text/plain": [
       "Loading checkpoint shards:   0%|          | 0/2 [00:00<?, ?it/s]"
      ]
     },
     "metadata": {},
     "output_type": "display_data"
    },
    {
     "name": "stderr",
     "output_type": "stream",
     "text": [
      "Some parameters are on the meta device because they were offloaded to the cpu.\n",
      "Device set to use cuda:0\n"
     ]
    }
   ],
   "source": [
    "import chromadb\n",
    "from transformers import AutoModelForCausalLM, AutoTokenizer, pipeline\n",
    "from langchain.vectorstores import Chroma\n",
    "\n",
    "# 🔹 Загружаем модель \n",
    "model_name = \"google/gemma-2b-it\" \n",
    "\n",
    "tokenizer = AutoTokenizer.from_pretrained(model_name)\n",
    "model = AutoModelForCausalLM.from_pretrained(model_name, device_map=\"auto\")\n",
    "\n",
    "# 🔹 Создаем пайплайн для инференса\n",
    "llm_pipeline = pipeline(\"text-generation\", model=model, tokenizer=tokenizer)"
   ]
  },
  {
   "cell_type": "markdown",
   "id": "4b554395-54cf-4399-bc0d-a0eb764a7ae6",
   "metadata": {},
   "source": [
    "# Подгружаем 8B модель"
   ]
  },
  {
   "cell_type": "code",
   "execution_count": 1,
   "id": "566a5f9c-11fa-41df-b9a8-6a25c97ed846",
   "metadata": {},
   "outputs": [
    {
     "data": {
      "application/vnd.jupyter.widget-view+json": {
       "model_id": "3aa49debd74d4fda8edd39ab021241d2",
       "version_major": 2,
       "version_minor": 0
      },
      "text/plain": [
       "Loading checkpoint shards:   0%|          | 0/4 [00:00<?, ?it/s]"
      ]
     },
     "metadata": {},
     "output_type": "display_data"
    },
    {
     "name": "stderr",
     "output_type": "stream",
     "text": [
      "Device set to use cuda:0\n"
     ]
    }
   ],
   "source": [
    "from transformers import BitsAndBytesConfig, AutoTokenizer, AutoModelForCausalLM, pipeline\n",
    "import torch\n",
    "\n",
    "device = torch.device(\"cuda\" if torch.cuda.is_available() else \"cpu\")\n",
    "\n",
    "quant_config = BitsAndBytesConfig(load_in_8bit=True)\n",
    "\n",
    "model_name = \"t-bank-ai/T-lite-instruct-0.1\"\n",
    "tokenizer = AutoTokenizer.from_pretrained(model_name)\n",
    "model = AutoModelForCausalLM.from_pretrained(model_name, \n",
    "                                             quantization_config=quant_config,\n",
    "                                             device_map=\"auto\")\n",
    "\n",
    "# Создаем пайплайн для модели\n",
    "llm_pipeline = pipeline(\"text-generation\", model=model, tokenizer=tokenizer)"
   ]
  },
  {
   "cell_type": "code",
   "execution_count": 2,
   "id": "5c19cb7d-95bb-4d25-bd48-3db23cf5ca36",
   "metadata": {},
   "outputs": [],
   "source": [
    "import json\n",
    "\n",
    "def extract_location(query: str):\n",
    "    \"\"\"Извлекает страны и города с помощью LLM в формате few-shot.\"\"\"\n",
    "\n",
    "    prompt = f\"\"\"Извлеки названия стран и городов из запроса. Ответ строго в формате JSON.\n",
    "\n",
    "    Пример 1:\n",
    "    Текст: \"Какие достопримечательности есть в Москве и Париже?\"\n",
    "    Ответ:\n",
    "    {{\n",
    "      \"cities\": [\"Москва\", \"Париж\"],\n",
    "      \"countries\": [\"Россия\", \"Франция\"]\n",
    "    }}\n",
    "    \n",
    "    Пример 2:\n",
    "    Текст: \"Что посмотреть в Берлине, Лондоне и Италии?\"\n",
    "    Ответ:\n",
    "    {{\n",
    "      \"cities\": [\"Берлин\", \"Лондон\"],\n",
    "      \"countries\": [\"Германия\", \"Великобритания\", \"Италия\"]\n",
    "    }}\n",
    "    \n",
    "    Пример 3:\n",
    "    Текст: \"{query}\"\n",
    "    Ответ:\n",
    "    \"\"\"\n",
    "\n",
    "    response = llm_pipeline(prompt, max_new_tokens=100, do_sample=False)\n",
    "    response_text = response[0][\"generated_text\"]\n",
    "\n",
    "    try:\n",
    "        # Разделим на части по слову 'Ответ' и возьмём сгенерированный ответ\n",
    "        parts = response_text.split(\"Ответ:\")\n",
    "        answer_part = parts[3] \n",
    "\n",
    "        # Найдём первую подстроку от \"{\" до \"}\" \n",
    "        json_start = answer_part.find(\"{\")\n",
    "        json_end = answer_part.find(\"}\") + 2\n",
    "\n",
    "        if json_start == -1 or json_end == -1:\n",
    "            raise ValueError(\"Не удалось найти JSON-блок\")\n",
    "\n",
    "        json_str = answer_part[json_start:json_end]\n",
    "        result = json.loads(json_str)\n",
    "\n",
    "    except Exception as e:\n",
    "        print(f\"Ошибка извлечения: {e}\")\n",
    "        result = {\"cities\": [], \"countries\": []}\n",
    "\n",
    "    return result\n",
    "\n",
    "#user_query = \"Что можно посмотреть в Казани и в Германии?\"\n",
    "#print(extract_location(user_query))"
   ]
  },
  {
   "cell_type": "markdown",
   "id": "a01e32ab-3e4f-47f3-b63b-f4a4882bc63b",
   "metadata": {},
   "source": [
    "# Тестирование ретривера\n"
   ]
  },
  {
   "cell_type": "markdown",
   "id": "d0f86edc-13fb-4d85-bb4f-83fa7d3d1b77",
   "metadata": {
    "jp-MarkdownHeadingCollapsed": true
   },
   "source": [
    "```\n",
    "Предполагается, что модель сможет вычленять названия стран и городов из вопросов пользователей, соответственно мы можем оценить ретривер путем оценки соответствия извлеченных сущностей запросу. Тк в дальнейшем мы будем фильтровать чанки по мета информации (Страна, город) в контекст модели не будет попадать нерелевантная информация\n",
    "```"
   ]
  },
  {
   "cell_type": "markdown",
   "id": "c1bd90a9-c423-480c-9e22-a0655fc56b59",
   "metadata": {},
   "source": [
    "## Тестовые запросы и правильные ответы"
   ]
  },
  {
   "cell_type": "code",
   "execution_count": 47,
   "id": "d22d94cf-4f00-4395-bb32-c4431ad35175",
   "metadata": {},
   "outputs": [],
   "source": [
    "test_queries = [\n",
    "    \"Какие достопримечательности стоит посетить в Москве и Санкт-Петербурге?\",\n",
    "    \"Что лучше попробовать из еды в Париже и Лионе?\",\n",
    "    \"Какие музеи есть в Берлине и Мюнхене?\",\n",
    "    \"Где можно покататься на гондолах в Италии?\",\n",
    "    \"Какой пляжный отдых можно найти во Флоренции или Венеции?\",\n",
    "    \"Какой общественный транспорт лучше использовать в Риме?\",\n",
    "    \"Какова история Красной площади в Москве?\",\n",
    "    \"Какие замки можно посетить во Франции?\",\n",
    "    \"Какие современные здания есть в Берлине?\",\n",
    "    \"Что стоит посетить в Казани туристу впервые?\"\n",
    "]\n",
    "\n",
    "expected_entities = [\n",
    "    {\"cities\": [\"Москва\", \"Санкт-Петербург\"], \"countries\": [\"Россия\"]},\n",
    "    {\"cities\": [\"Париж\", \"Лион\"], \"countries\": [\"Франция\"]},\n",
    "    {\"cities\": [\"Берлин\", \"Мюнхен\"], \"countries\": [\"Германия\"]},\n",
    "    {\"cities\": [], \"countries\": [\"Италия\"]},  # Вопрос без конкретных городов\n",
    "    {\"cities\": [\"Флоренция\", \"Венеция\"], \"countries\": [\"Италия\"]},\n",
    "    {\"cities\": [\"Рим\"], \"countries\": [\"Италия\"]},\n",
    "    {\"cities\": [\"Москва\"], \"countries\": [\"Россия\"]},\n",
    "    {\"cities\": [], \"countries\": [\"Франция\"]},\n",
    "    {\"cities\": [\"Берлин\"], \"countries\": [\"Германия\"]},\n",
    "    {\"cities\": [\"Казань\"], \"countries\": [\"Россия\"]}\n",
    "]"
   ]
  },
  {
   "cell_type": "markdown",
   "id": "f6e262ec-c186-4035-8592-00ff5b8f2d52",
   "metadata": {},
   "source": [
    "## Метрики оценки извлечения сущностей\n",
    "\n",
    "### 1. Full Match Accuracy \n",
    "\n",
    "Эта метрика показывает, насколько точно модель извлекает все нужные сущности (города и страны).\n",
    "\n",
    "**Как считается**:\n",
    "\n",
    "Для каждого запроса проверяется, совпадают ли оба списка — и стран, и городов — в точности с ожидаемыми значениями:\n",
    "\n",
    "Если совпадает — считаем 1 балл.\n",
    "Если хотя бы одна лишняя или пропущенная сущность — 0 баллов.\n",
    "\n",
    "Затем подсчитывается доля таких полностью верных предсказаний среди всех запросов.\n",
    "\n",
    "\n",
    "### 2. IoU (Intersection over Union)\n",
    "\n",
    "Метрика оценивает пересечение между предсказанными и ожидаемыми сущностями — то есть насколько сильно они совпадают, даже если не идеально.\n",
    "\n",
    "**Как считается**:\n",
    "\n",
    "Сначала отдельно для городов и отдельно для стран:\n",
    "\n",
    "Считается, сколько сущностей было предсказано верно.\n",
    "Сравнивается это с общим числом всех уникальных сущностей в предсказании и эталоне (то есть объединением).\n",
    "Полученные значения объединяются в одно среднее число.\n",
    "\n",
    "Затем IoU усредняется по всем запросам\n"
   ]
  },
  {
   "cell_type": "code",
   "execution_count": 4,
   "id": "dffeb719-4141-479e-97e6-1cbfe5a89687",
   "metadata": {},
   "outputs": [],
   "source": [
    "from typing import List, Dict\n",
    "\n",
    "def evaluate_retriever(predicted_entities: List[Dict],\n",
    "                       queries: List[str],\n",
    "                       expected: List[Dict]):\n",
    "    \"\"\"Оценивает точность выделения стран и городов альтернативными метриками.\"\"\"\n",
    "\n",
    "    correct_full_predictions = 0\n",
    "    total_iou = 0\n",
    "\n",
    "    for i, (pred, true) in enumerate(zip(predicted_entities, expected)):\n",
    "        # Удаляем дубликаты\n",
    "        pred_cities = set(pred.get(\"cities\", []))\n",
    "        pred_countries = set(pred.get(\"countries\", []))\n",
    "\n",
    "        true_cities = set(true.get(\"cities\", []))\n",
    "        true_countries = set(true.get(\"countries\", []))\n",
    "\n",
    "        # Проверка на точное совпадение\n",
    "        if pred_cities == true_cities and pred_countries == true_countries:\n",
    "            correct_full_predictions += 1\n",
    "\n",
    "        # IoU по городам\n",
    "        union_cities = pred_cities | true_cities\n",
    "        inter_cities = pred_cities & true_cities\n",
    "        cities_iou = len(inter_cities) / len(union_cities) if union_cities else 1.0\n",
    "\n",
    "        # IoU по странам\n",
    "        union_countries = pred_countries | true_countries\n",
    "        inter_countries = pred_countries & true_countries\n",
    "        countries_iou = len(inter_countries) / len(union_countries) if union_countries else 1.0\n",
    "\n",
    "        avg_iou = (cities_iou + countries_iou) / 2\n",
    "        total_iou += avg_iou\n",
    "\n",
    "        print(f\"\\nВопрос {i+1}: {queries[i]}\")\n",
    "        print(f\"Ожидалось: {true}\")\n",
    "        print(f\"Предсказано: {pred}\")\n",
    "        print(f\"IoU: {avg_iou:.2f}\")\n",
    "        print(f\"Точное совпадение: {int(pred_cities == true_cities and pred_countries == true_countries)}\")\n",
    "\n",
    "    print(\"\\n**Общая оценка**\")\n",
    "    print(f\"Полностью верных предсказаний: {correct_full_predictions / len(queries):.2f}\")\n",
    "    print(f\"Средний IoU: {total_iou / len(queries):.2f}\")\n"
   ]
  },
  {
   "cell_type": "code",
   "execution_count": 49,
   "id": "55876588-9ca8-4327-a2ec-f8e3a8b60dc2",
   "metadata": {},
   "outputs": [],
   "source": [
    "# Инференсим модель и сохраняем ответы\n",
    "predicted_entities = [extract_location(query) for query in test_queries]"
   ]
  },
  {
   "cell_type": "code",
   "execution_count": 50,
   "id": "61f418d8-dff9-4f6d-89c4-2bff195eb1b7",
   "metadata": {},
   "outputs": [
    {
     "data": {
      "text/plain": [
       "[{'cities': ['Москва', 'Санкт-Петербург'], 'countries': ['Россия', 'Россия']},\n",
       " {'cities': ['Париж', 'Лион'], 'countries': ['Франция']},\n",
       " {'cities': ['Берлин', 'Мюнхен'], 'countries': ['Германия', 'Германия']},\n",
       " {'cities': ['Италия'], 'countries': ['Италия']},\n",
       " {'cities': ['Флоренция', 'Венеция'], 'countries': ['Италия']},\n",
       " {'cities': ['Рим'], 'countries': ['Италия']},\n",
       " {'cities': ['Москва'], 'countries': ['Россия']},\n",
       " {'cities': [], 'countries': ['Франция']},\n",
       " {'cities': ['Берлин'], 'countries': ['Германия']},\n",
       " {'cities': ['Казань'], 'countries': ['Россия']}]"
      ]
     },
     "execution_count": 50,
     "metadata": {},
     "output_type": "execute_result"
    }
   ],
   "source": [
    "predicted_entities"
   ]
  },
  {
   "cell_type": "code",
   "execution_count": 63,
   "id": "069a9ac4-e85b-4f8f-9eed-52786d32981f",
   "metadata": {},
   "outputs": [
    {
     "name": "stdout",
     "output_type": "stream",
     "text": [
      "\n",
      "Вопрос 1: Какие достопримечательности стоит посетить в Москве и Санкт-Петербурге?\n",
      "Ожидалось: {'cities': ['Москва', 'Санкт-Петербург'], 'countries': ['Россия']}\n",
      "Предсказано: {'cities': ['Москва', 'Санкт-Петербург'], 'countries': ['Россия', 'Россия']}\n",
      "IoU: 1.00\n",
      "Точное совпадение: 1\n",
      "\n",
      "Вопрос 2: Что лучше попробовать из еды в Париже и Лионе?\n",
      "Ожидалось: {'cities': ['Париж', 'Лион'], 'countries': ['Франция']}\n",
      "Предсказано: {'cities': ['Париж', 'Лион'], 'countries': ['Франция']}\n",
      "IoU: 1.00\n",
      "Точное совпадение: 1\n",
      "\n",
      "Вопрос 3: Какие музеи есть в Берлине и Мюнхене?\n",
      "Ожидалось: {'cities': ['Берлин', 'Мюнхен'], 'countries': ['Германия']}\n",
      "Предсказано: {'cities': ['Берлин', 'Мюнхен'], 'countries': ['Германия', 'Германия']}\n",
      "IoU: 1.00\n",
      "Точное совпадение: 1\n",
      "\n",
      "Вопрос 4: Где можно покататься на гондолах в Италии?\n",
      "Ожидалось: {'cities': [], 'countries': ['Италия']}\n",
      "Предсказано: {'cities': ['Италия'], 'countries': ['Италия']}\n",
      "IoU: 0.50\n",
      "Точное совпадение: 0\n",
      "\n",
      "Вопрос 5: Какой пляжный отдых можно найти во Флоренции или Венеции?\n",
      "Ожидалось: {'cities': ['Флоренция', 'Венеция'], 'countries': ['Италия']}\n",
      "Предсказано: {'cities': ['Флоренция', 'Венеция'], 'countries': ['Италия']}\n",
      "IoU: 1.00\n",
      "Точное совпадение: 1\n",
      "\n",
      "Вопрос 6: Какой общественный транспорт лучше использовать в Риме?\n",
      "Ожидалось: {'cities': ['Рим'], 'countries': ['Италия']}\n",
      "Предсказано: {'cities': ['Рим'], 'countries': ['Италия']}\n",
      "IoU: 1.00\n",
      "Точное совпадение: 1\n",
      "\n",
      "Вопрос 7: Какова история Красной площади в Москве?\n",
      "Ожидалось: {'cities': ['Москва'], 'countries': ['Россия']}\n",
      "Предсказано: {'cities': ['Москва'], 'countries': ['Россия']}\n",
      "IoU: 1.00\n",
      "Точное совпадение: 1\n",
      "\n",
      "Вопрос 8: Какие замки можно посетить во Франции?\n",
      "Ожидалось: {'cities': [], 'countries': ['Франция']}\n",
      "Предсказано: {'cities': [], 'countries': ['Франция']}\n",
      "IoU: 1.00\n",
      "Точное совпадение: 1\n",
      "\n",
      "Вопрос 9: Какие современные здания есть в Берлине?\n",
      "Ожидалось: {'cities': ['Берлин'], 'countries': ['Германия']}\n",
      "Предсказано: {'cities': ['Берлин'], 'countries': ['Германия']}\n",
      "IoU: 1.00\n",
      "Точное совпадение: 1\n",
      "\n",
      "Вопрос 10: Что стоит посетить в Казани туристу впервые?\n",
      "Ожидалось: {'cities': ['Казань'], 'countries': ['Россия']}\n",
      "Предсказано: {'cities': ['Казань'], 'countries': ['Россия']}\n",
      "IoU: 1.00\n",
      "Точное совпадение: 1\n",
      "\n",
      "**Общая оценка**\n",
      "**Полностью верных предсказаний**: 0.90\n",
      "Средний IoU: 0.95\n"
     ]
    }
   ],
   "source": [
    "evaluate_retriever(predicted_entities, test_queries, expected_entities)"
   ]
  }
 ],
 "metadata": {
  "kernelspec": {
   "display_name": "Python 3 (ipykernel)",
   "language": "python",
   "name": "python3"
  },
  "language_info": {
   "codemirror_mode": {
    "name": "ipython",
    "version": 3
   },
   "file_extension": ".py",
   "mimetype": "text/x-python",
   "name": "python",
   "nbconvert_exporter": "python",
   "pygments_lexer": "ipython3",
   "version": "3.10.16"
  }
 },
 "nbformat": 4,
 "nbformat_minor": 5
}
