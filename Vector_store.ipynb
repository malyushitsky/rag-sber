{
 "cells": [
  {
   "cell_type": "markdown",
   "id": "8cc7a20b-07cf-4ebb-a7c0-65a1bffd488a",
   "metadata": {},
   "source": [
    "# Векторная база данных"
   ]
  },
  {
   "cell_type": "code",
   "execution_count": 1,
   "id": "811e18f3-c2f7-4b48-ab08-b4178265a57b",
   "metadata": {},
   "outputs": [],
   "source": [
    "import os\n",
    "from pathlib import Path\n",
    "from typing import List, Dict\n",
    "from langchain.text_splitter import RecursiveCharacterTextSplitter\n",
    "from chromadb import Client\n",
    "import chromadb\n",
    "from langchain.schema import Document\n",
    "\n",
    "def load_documents(data_dir: str) -> List[Dict]:\n",
    "    \"\"\"Создаем чанки с помощью RecursiveCharacterTextSplitter\"\"\"\n",
    "    documents = []\n",
    "    splitter = splitter = RecursiveCharacterTextSplitter(\n",
    "                            chunk_size=700,               # Размер чанка \n",
    "                            chunk_overlap=50,            # Размер перекрытия чанков\n",
    "                            separators=[\"\\n\\n\", \"\\n\", \".\", \" \", \"\"],  # Приоритет разбиения: абзац → строка → предложение → пробел\n",
    "                          )\n",
    "\n",
    "    for root, _, files in os.walk(data_dir):\n",
    "        # Пропускаем системные папки\n",
    "        if '.ipynb_checkpoints' in root:\n",
    "            continue\n",
    "\n",
    "        for file in files:\n",
    "            if file.endswith(\".txt\") and not file.startswith('.') and '.ipynb_checkpoints' not in file:\n",
    "                full_path = os.path.join(root, file)\n",
    "\n",
    "                with open(full_path, \"r\", encoding=\"utf-8\") as f:\n",
    "                    text = f.read()\n",
    "\n",
    "                country = Path(root).name\n",
    "                city = Path(file).stem\n",
    "\n",
    "                chunks = splitter.split_text(text)\n",
    "\n",
    "                for chunk in chunks:\n",
    "                    documents.append(\n",
    "                        Document(\n",
    "                            page_content=f\"search_document: {chunk.strip()}\",\n",
    "                            metadata={\n",
    "                                \"country\": country,\n",
    "                                \"city\": city\n",
    "                            }\n",
    "                        )\n",
    "                    )\n",
    "\n",
    "    return documents"
   ]
  },
  {
   "cell_type": "code",
   "execution_count": 2,
   "id": "4594f37a-d0e0-4a48-8451-75e40edda5f8",
   "metadata": {},
   "outputs": [],
   "source": [
    "documents = load_documents(\"data\")"
   ]
  },
  {
   "cell_type": "code",
   "execution_count": 3,
   "id": "622f9bd5-cefa-4bcf-8d6b-2ba413af382c",
   "metadata": {},
   "outputs": [
    {
     "data": {
      "text/plain": [
       "Document(metadata={'country': 'Германия', 'city': 'Берлин'}, page_content='search_document: БЕРЛИН\\n\\n### Достопримечательности\\n\\nБерлинская стена .East Side Gallery -музей под открытым небом.Остатки Берлинской стены протяженностью 1316 метров, на которой нарисовано около 106 картин авторами из разных стран мира после падения стены в период с 1989 по 1990 год.Длина стены составляла около 155 км (43,1 км приходились непосредственно на город), а высота достигала 4,1 м. Сейчас ее обломки успешно продаются в виде сувениров. Находится вдоль Шпрее на улице Мюленштрассе,между Ostbahnhof и мостом Обербаум.Добраться можно пешком от Остбанхофа или пешком от U-Bahn Варшауэр Штрассе в сторону Обербаумбрюке до Mühlenstraße.')"
      ]
     },
     "execution_count": 3,
     "metadata": {},
     "output_type": "execute_result"
    }
   ],
   "source": [
    "documents[0]"
   ]
  },
  {
   "cell_type": "code",
   "execution_count": 4,
   "id": "14b48185-b2cf-4a55-9117-09ef76b599a7",
   "metadata": {},
   "outputs": [
    {
     "data": {
      "text/plain": [
       "Document(metadata={'country': 'Германия', 'city': 'Берлин'}, page_content='search_document: Подневольный труд в период национал- социализма.Документационный центр Берлин-Шёневайде 12 , Britzer Straße 5, 12439 Berlin . ☎ +49 (030) 63902880. 🕑\\xa010-18 .\\u20020,- €. Бывший лагерь лиц подневольного труда Шёневайде (GBI-Lager 75/76) на Бритцер-штрассе является - по крайней мере в Берлине - единственным в своем роде историческим ансамблем. Из 13 жилых бараков, построенных в период между 1943 и 1945 гг., сохранилось 11. Вход свободный экскурсии по желанию Kонтакт: +49 (0)30 / 63 90 288 0 schoeneweide@topographie.de\\n\\n### Чем заняться\\n\\nМузеи\\n\\n4 Музей Боде ( нем. Bode-Museum ).\\n\\n5 Пергамский музей ( нем. Pergamonmuseum ).\\n\\n6 Старый музей ( нем. Altes Museum ).')"
      ]
     },
     "execution_count": 4,
     "metadata": {},
     "output_type": "execute_result"
    }
   ],
   "source": [
    "documents[1]"
   ]
  },
  {
   "cell_type": "markdown",
   "id": "4507b034-2feb-4231-b058-3476cd2758d3",
   "metadata": {},
   "source": [
    "## Загружаем SOTA эмбеддер для retrieval задачи"
   ]
  },
  {
   "cell_type": "code",
   "execution_count": 8,
   "id": "47646e01-262c-4bd0-b3fe-705af8051eb4",
   "metadata": {},
   "outputs": [],
   "source": [
    "from langchain.embeddings import HuggingFaceEmbeddings\n",
    "from langchain.vectorstores import Chroma\n",
    "\n",
    "# Загружаем эмбеддер FRIDA\n",
    "embedding = HuggingFaceEmbeddings(\n",
    "    model_name=\"ai-forever/FRIDA\",\n",
    "    encode_kwargs={\"normalize_embeddings\": True}\n",
    ")"
   ]
  },
  {
   "cell_type": "markdown",
   "id": "54b0da3e-88e9-469a-b5c8-8460c6ffa74f",
   "metadata": {},
   "source": [
    "## Создаем векторную БД"
   ]
  },
  {
   "cell_type": "code",
   "execution_count": 9,
   "id": "5c54e677-5403-4ebb-b8c8-0d95499c64aa",
   "metadata": {},
   "outputs": [],
   "source": [
    "from langchain.vectorstores import Chroma\n",
    "\n",
    "chroma_db = Chroma.from_documents(\n",
    "    documents=documents,\n",
    "    embedding=embedding,\n",
    "    persist_directory=\"chroma_storage\"\n",
    ")"
   ]
  },
  {
   "cell_type": "markdown",
   "id": "7a7e8967-2eec-4728-a307-4a4c41bc19f2",
   "metadata": {},
   "source": [
    "### Пример поиска"
   ]
  },
  {
   "cell_type": "code",
   "execution_count": 10,
   "id": "572a121b-7d24-4ad9-92cf-9f9adbb553b2",
   "metadata": {},
   "outputs": [
    {
     "name": "stdout",
     "output_type": "stream",
     "text": [
      "search_document: САНКТ-ПЕТЕРБУРГ\n",
      "\n",
      "### Достопримечательности\n",
      "\n",
      "В Петербурге есть множество памятников архитектуры, скульптуры, различных мемориалов, музеев, театров разного направления. Здесь также представлены интересные сооружения на стыке инженерной мысли и искусства, такие как всемирно известные петербургские мосты.\n",
      "\n",
      "Исторический центр Санкт-Петербурга включён в список всемирного наследия ЮНЕСКО.\n",
      "\n",
      "Для удобства конкретные достопримечательности описываются в статьях по районам города. Наиболее интересны в этом отношении историческая часть города — его центр , Васильевский остров и Петроградская сторона .\n",
      "\n",
      "### Чем заняться\n",
      "{'city': 'Санкт-Петербург', 'country': 'Россия'}\n",
      "----------------------------------------\n",
      "search_document: ### Чем заняться\n",
      "\n",
      "Альтернативный способ изучить город и узнать его изнутри - гулять и общаться с местными жителями и принимать участие в локальных мероприятиях. Люди, которые живут в Питере многие годы, хотели бы рассказать путешественникам свои истории, открыть самые секретные места (как то крыши, дворики, места силы и т. д.) и просто подружиться.\n",
      "{'city': 'Санкт-Петербург', 'country': 'Россия'}\n",
      "----------------------------------------\n"
     ]
    }
   ],
   "source": [
    "query = \"Что посетить в питере?\"\n",
    "final_query = f\"search_query: {query}\"\n",
    "\n",
    "results = chroma_db.similarity_search(final_query, k=2)\n",
    "\n",
    "for doc in results:\n",
    "    print(doc.page_content)\n",
    "    print(doc.metadata)\n",
    "    print(\"-\" * 40)"
   ]
  }
 ],
 "metadata": {
  "kernelspec": {
   "display_name": "Python 3 (ipykernel)",
   "language": "python",
   "name": "python3"
  },
  "language_info": {
   "codemirror_mode": {
    "name": "ipython",
    "version": 3
   },
   "file_extension": ".py",
   "mimetype": "text/x-python",
   "name": "python",
   "nbconvert_exporter": "python",
   "pygments_lexer": "ipython3",
   "version": "3.10.16"
  }
 },
 "nbformat": 4,
 "nbformat_minor": 5
}
